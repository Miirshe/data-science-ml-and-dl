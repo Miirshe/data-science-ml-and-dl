{
 "cells": [
  {
   "cell_type": "code",
   "execution_count": 1,
   "id": "172a9538",
   "metadata": {},
   "outputs": [],
   "source": [
    "from selenium import webdriver\n",
    "from selenium.webdriver.common.keys import Keys\n",
    "from selenium.webdriver.support import expected_conditions as EC\n",
    "from selenium.webdriver.common.by import By\n",
    "from selenium.webdriver.support.wait import WebDriverWait\n",
    "import time\n",
    "import pandas as pd\n"
   ]
  },
  {
   "cell_type": "code",
   "execution_count": null,
   "id": "aac19565",
   "metadata": {},
   "outputs": [],
   "source": [
    "#code to ignore browser notifications\n",
    "chrome_options = webdriver.ChromeOptions()\n",
    "prefs = {\"profile.default_content_setting_values.notifications\" : 2}\n",
    "chrome_options.add_experimental_option(\"prefs\",prefs)\n",
    "from selenium.webdriver.support.wait import WebDriverWait\n",
    "\n",
    "driver = webdriver.Chrome(executable_path=\"./chromedriver\",chrome_options=chrome_options)\n",
    "\n",
    "#open the webpage\n",
    "driver.get(\"https://wwww.facebook.com/\")\n"
   ]
  },
  {
   "cell_type": "code",
   "execution_count": null,
   "id": "8624f739",
   "metadata": {},
   "outputs": [],
   "source": [
    "#target username\n",
    "username = WebDriverWait(driver, 10).until(EC.element_to_be_clickable((By.CSS_SELECTOR, \"input[name='email']\")))\n",
    "password = WebDriverWait(driver, 10).until(EC.element_to_be_clickable((By.CSS_SELECTOR, \"input[name='pass']\")))\n",
    "\n",
    "#enter username and password\n",
    "username.clear()\n",
    "\n",
    "\n",
    "username.send_keys(\"618302314\")\n",
    "password.clear()\n",
    "#use your username and password\n",
    "password.send_keys(\"619840\")\n",
    "\n",
    "#target the login button and click it\n",
    "time.sleep(5)\n",
    "button = WebDriverWait(driver,5).until(EC.element_to_be_clickable((By.CSS_SELECTOR, \"button[type='submit']\"))).click()\n",
    "\n",
    "#We are logged in!\n",
    "print(\"Logged in\")"
   ]
  },
  {
   "cell_type": "code",
   "execution_count": null,
   "id": "36611833",
   "metadata": {},
   "outputs": [],
   "source": [
    "url = \"https://www.facebook.com/watch/?v=1135316784129434&__cft__[0]=AZWL5cd77QL8zTDpGhRG98yNIj5vBOVe0BbPD4PJb3_CQ8skBzn87xSz9sUAPMAKHkUf8CwMO7dO41NpJn8nXrP8WVdWi-QCXyWTEb2vzH5CqGav9cXPs3elrmMaaghdwa7ujqEXkOQAp0NcoZB0MYPRLNhedyUCwE1YmqgoQq22pVNqU5ksnvutPf-noRtrdyE\"\n",
    "\n"
   ]
  },
  {
   "cell_type": "code",
   "execution_count": null,
   "id": "b994496d",
   "metadata": {},
   "outputs": [],
   "source": [
    "#program to parse user name who posted comment\n",
    "def Nameparse():\n",
    "    driver.get(url)\n",
    "    names = driver.find_elements_by_tag_name('h3')\n",
    "    for name in names:\n",
    "        name=name.text\n",
    "        if name=='Hon Farhan Diraac': #Omitting Hon Farhan Diraac name from parsed list\n",
    "            continue\n",
    "        Name.append(name)\n"
   ]
  },
  {
   "cell_type": "code",
   "execution_count": null,
   "id": "b92abcee",
   "metadata": {},
   "outputs": [],
   "source": [
    "\n",
    "#program to parse comments\n",
    "def Commentparse():\n",
    "    driver.get(url)\n",
    "    comments=driver.find_elements_by_css_selector(\"[class='ed']\") or driver.find_elements_by_css_selector(\"[class='ee']\") or driver.find_elements_by_css_selector(\"[class='eg']\")\n",
    "    for comment in comments:\n",
    "        comment=comment.text\n",
    "        Comment.append(comment)"
   ]
  },
  {
   "cell_type": "code",
   "execution_count": null,
   "id": "b270190e",
   "metadata": {},
   "outputs": [],
   "source": [
    "\n",
    "#Program to scrap comments from each page\n",
    "Name=[]\n",
    "Comment=[]\n",
    "cnt=0\n",
    "#program to parse comments from 5 pages, if you want comments from all pages then use while loop\n",
    "for i in range(6):\n",
    "#while True:\n",
    "    url=(\"https://www.facebook.com/watch/?v=1135316784129434&__cft__[0]=AZWL5cd77QL8zTDpGhRG98yNIj5vBOVe0BbPD4PJb3_CQ8skBzn87xSz9sUAPMAKHkUf8CwMO7dO41NpJn8nXrP8WVdWi-QCXyWTEb2vzH5CqGav9cXPs3elrmMaaghdwa7ujqEXkOQAp0NcoZB0MYPRLNhedyUCwE1YmqgoQq22pVNqU5ksnvutPf-noRtrdyE\")\n",
    "    url=url+str(cnt)\n",
    "    Nameparse()\n",
    "    print(Name)\n",
    "    Commentparse()\n",
    "    print(Comment)\n",
    "    print(url)\n",
    "    cnt=cnt+10  \n"
   ]
  },
  {
   "cell_type": "code",
   "execution_count": null,
   "id": "11862440",
   "metadata": {},
   "outputs": [],
   "source": [
    "#create a dataframe\n",
    "data = pd.DataFrame({'Name': Name, 'Comment': Comment})\n",
    "data.to_csv('Facebbok_comments.csv')\n",
    "print('data saved')"
   ]
  }
 ],
 "metadata": {
  "kernelspec": {
   "display_name": "Python 3 (ipykernel)",
   "language": "python",
   "name": "python3"
  },
  "language_info": {
   "codemirror_mode": {
    "name": "ipython",
    "version": 3
   },
   "file_extension": ".py",
   "mimetype": "text/x-python",
   "name": "python",
   "nbconvert_exporter": "python",
   "pygments_lexer": "ipython3",
   "version": "3.11.5"
  }
 },
 "nbformat": 4,
 "nbformat_minor": 5
}

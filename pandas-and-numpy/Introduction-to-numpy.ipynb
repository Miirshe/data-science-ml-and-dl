{
 "cells": [
  {
   "cell_type": "code",
   "execution_count": 2,
   "id": "719f8b01",
   "metadata": {},
   "outputs": [],
   "source": [
    "import numpy as np"
   ]
  },
  {
   "cell_type": "code",
   "execution_count": 3,
   "id": "6b8802c4",
   "metadata": {},
   "outputs": [],
   "source": [
    "arr1 = np.array([1,2,3,4,5,6,7,8,9,10])"
   ]
  },
  {
   "cell_type": "code",
   "execution_count": 4,
   "id": "17357376",
   "metadata": {},
   "outputs": [
    {
     "data": {
      "text/plain": [
       "array([ 1,  2,  3,  4,  5,  6,  7,  8,  9, 10])"
      ]
     },
     "execution_count": 4,
     "metadata": {},
     "output_type": "execute_result"
    }
   ],
   "source": [
    "arr1"
   ]
  },
  {
   "cell_type": "code",
   "execution_count": 5,
   "id": "314d5afe",
   "metadata": {},
   "outputs": [
    {
     "data": {
      "text/plain": [
       "dtype('int32')"
      ]
     },
     "execution_count": 5,
     "metadata": {},
     "output_type": "execute_result"
    }
   ],
   "source": [
    "arr1.dtype"
   ]
  },
  {
   "cell_type": "code",
   "execution_count": 6,
   "id": "c612da16",
   "metadata": {},
   "outputs": [
    {
     "data": {
      "text/plain": [
       "10"
      ]
     },
     "execution_count": 6,
     "metadata": {},
     "output_type": "execute_result"
    }
   ],
   "source": [
    "arr1.size"
   ]
  },
  {
   "cell_type": "code",
   "execution_count": 7,
   "id": "4d9c9541",
   "metadata": {},
   "outputs": [
    {
     "data": {
      "text/plain": [
       "10"
      ]
     },
     "execution_count": 7,
     "metadata": {},
     "output_type": "execute_result"
    }
   ],
   "source": [
    "len(arr1)"
   ]
  },
  {
   "cell_type": "code",
   "execution_count": 8,
   "id": "a2601080",
   "metadata": {},
   "outputs": [
    {
     "data": {
      "text/plain": [
       "array([1, 2, 3, 4, 5])"
      ]
     },
     "execution_count": 8,
     "metadata": {},
     "output_type": "execute_result"
    }
   ],
   "source": [
    "arr1[0:5]"
   ]
  },
  {
   "cell_type": "code",
   "execution_count": 9,
   "id": "18d5038a",
   "metadata": {},
   "outputs": [
    {
     "data": {
      "text/plain": [
       "(10,)"
      ]
     },
     "execution_count": 9,
     "metadata": {},
     "output_type": "execute_result"
    }
   ],
   "source": [
    "arr1.shape"
   ]
  },
  {
   "cell_type": "code",
   "execution_count": 10,
   "id": "82104cab",
   "metadata": {},
   "outputs": [
    {
     "data": {
      "text/plain": [
       "1"
      ]
     },
     "execution_count": 10,
     "metadata": {},
     "output_type": "execute_result"
    }
   ],
   "source": [
    "arr1.ndim"
   ]
  },
  {
   "cell_type": "code",
   "execution_count": 11,
   "id": "90ced317",
   "metadata": {},
   "outputs": [
    {
     "data": {
      "text/plain": [
       "55"
      ]
     },
     "execution_count": 11,
     "metadata": {},
     "output_type": "execute_result"
    }
   ],
   "source": [
    "arr1.sum()"
   ]
  },
  {
   "cell_type": "code",
   "execution_count": 12,
   "id": "e9b76fe0",
   "metadata": {},
   "outputs": [
    {
     "data": {
      "text/plain": [
       "5.5"
      ]
     },
     "execution_count": 12,
     "metadata": {},
     "output_type": "execute_result"
    }
   ],
   "source": [
    "arr1.mean()"
   ]
  },
  {
   "cell_type": "code",
   "execution_count": 13,
   "id": "7e0e4a9f",
   "metadata": {},
   "outputs": [
    {
     "data": {
      "text/plain": [
       "array([10,  9,  8,  7,  6,  5,  4,  3,  2,  1])"
      ]
     },
     "execution_count": 13,
     "metadata": {},
     "output_type": "execute_result"
    }
   ],
   "source": [
    "arr1[::-1]"
   ]
  },
  {
   "cell_type": "code",
   "execution_count": 14,
   "id": "7065406e",
   "metadata": {},
   "outputs": [],
   "source": [
    "arr1Copy = arr1.copy()"
   ]
  },
  {
   "cell_type": "code",
   "execution_count": 15,
   "id": "b230bf1c",
   "metadata": {},
   "outputs": [
    {
     "data": {
      "text/plain": [
       "array([ 1,  2,  3,  4,  5,  6,  7,  8,  9, 10])"
      ]
     },
     "execution_count": 15,
     "metadata": {},
     "output_type": "execute_result"
    }
   ],
   "source": [
    "arr1Copy"
   ]
  },
  {
   "cell_type": "code",
   "execution_count": 16,
   "id": "26ff50ee",
   "metadata": {},
   "outputs": [
    {
     "data": {
      "text/plain": [
       "array([ 1,  2,  3,  4,  5,  6,  7,  8,  9, 10])"
      ]
     },
     "execution_count": 16,
     "metadata": {},
     "output_type": "execute_result"
    }
   ],
   "source": [
    "arr1Veiw = arr1.view()\n",
    "arr1Veiw"
   ]
  },
  {
   "cell_type": "code",
   "execution_count": 17,
   "id": "7c9b99bd",
   "metadata": {},
   "outputs": [],
   "source": [
    "arr1[0] = 20"
   ]
  },
  {
   "cell_type": "code",
   "execution_count": 18,
   "id": "e9c91651",
   "metadata": {},
   "outputs": [
    {
     "data": {
      "text/plain": [
       "array([ 1,  2,  3,  4,  5,  6,  7,  8,  9, 10])"
      ]
     },
     "execution_count": 18,
     "metadata": {},
     "output_type": "execute_result"
    }
   ],
   "source": [
    "arr1Copy"
   ]
  },
  {
   "cell_type": "code",
   "execution_count": 19,
   "id": "38f0f5c8",
   "metadata": {},
   "outputs": [
    {
     "data": {
      "text/plain": [
       "array([20,  2,  3,  4,  5,  6,  7,  8,  9, 10])"
      ]
     },
     "execution_count": 19,
     "metadata": {},
     "output_type": "execute_result"
    }
   ],
   "source": [
    "arr1Veiw"
   ]
  },
  {
   "cell_type": "code",
   "execution_count": 20,
   "id": "52983853",
   "metadata": {},
   "outputs": [
    {
     "name": "stdout",
     "output_type": "stream",
     "text": [
      "1\n",
      "2\n",
      "3\n",
      "4\n",
      "5\n",
      "6\n",
      "7\n",
      "8\n",
      "9\n",
      "10\n"
     ]
    }
   ],
   "source": [
    "arr1[0] = 1\n",
    "\n",
    "for i in arr1:\n",
    "    print(i)"
   ]
  },
  {
   "cell_type": "code",
   "execution_count": 21,
   "id": "c2dbcac6",
   "metadata": {},
   "outputs": [],
   "source": [
    "ones = np.ones((5,5))"
   ]
  },
  {
   "cell_type": "code",
   "execution_count": 22,
   "id": "2e9983f3",
   "metadata": {},
   "outputs": [
    {
     "data": {
      "text/plain": [
       "array([[1., 1., 1., 1., 1.],\n",
       "       [1., 1., 1., 1., 1.],\n",
       "       [1., 1., 1., 1., 1.],\n",
       "       [1., 1., 1., 1., 1.],\n",
       "       [1., 1., 1., 1., 1.]])"
      ]
     },
     "execution_count": 22,
     "metadata": {},
     "output_type": "execute_result"
    }
   ],
   "source": [
    "ones"
   ]
  },
  {
   "cell_type": "code",
   "execution_count": 23,
   "id": "73f7d563",
   "metadata": {},
   "outputs": [
    {
     "data": {
      "text/plain": [
       "array([[0., 0., 0., 0., 0.],\n",
       "       [0., 0., 0., 0., 0.],\n",
       "       [0., 0., 0., 0., 0.],\n",
       "       [0., 0., 0., 0., 0.],\n",
       "       [0., 0., 0., 0., 0.]])"
      ]
     },
     "execution_count": 23,
     "metadata": {},
     "output_type": "execute_result"
    }
   ],
   "source": [
    "zeros = np.zeros((5,5))\n",
    "zeros"
   ]
  },
  {
   "cell_type": "markdown",
   "id": "b26701d1",
   "metadata": {},
   "source": [
    "# Numpy random "
   ]
  },
  {
   "cell_type": "code",
   "execution_count": 24,
   "id": "1dddd1da",
   "metadata": {},
   "outputs": [],
   "source": [
    "random_arr1 = np.random.randint(0 , 10 , size = (2,5))"
   ]
  },
  {
   "cell_type": "code",
   "execution_count": 25,
   "id": "23463ffc",
   "metadata": {},
   "outputs": [
    {
     "data": {
      "text/plain": [
       "array([[8, 1, 1, 5, 5],\n",
       "       [7, 9, 6, 8, 4]])"
      ]
     },
     "execution_count": 25,
     "metadata": {},
     "output_type": "execute_result"
    }
   ],
   "source": [
    "random_arr1"
   ]
  },
  {
   "cell_type": "code",
   "execution_count": 26,
   "id": "31543130",
   "metadata": {},
   "outputs": [
    {
     "data": {
      "text/plain": [
       "array([[1, 1, 5, 5, 8],\n",
       "       [4, 6, 7, 8, 9]])"
      ]
     },
     "execution_count": 26,
     "metadata": {},
     "output_type": "execute_result"
    }
   ],
   "source": [
    "np.sort(random_arr1)"
   ]
  },
  {
   "cell_type": "code",
   "execution_count": 34,
   "id": "b8acfa4a",
   "metadata": {},
   "outputs": [],
   "source": [
    "# range\n",
    "arrRange = np.arange(0,10,2)"
   ]
  },
  {
   "cell_type": "code",
   "execution_count": 35,
   "id": "2d3dbb8e",
   "metadata": {},
   "outputs": [
    {
     "data": {
      "text/plain": [
       "array([0, 2, 4, 6, 8])"
      ]
     },
     "execution_count": 35,
     "metadata": {},
     "output_type": "execute_result"
    }
   ],
   "source": [
    "arrRange"
   ]
  },
  {
   "cell_type": "code",
   "execution_count": 37,
   "id": "166f2917",
   "metadata": {},
   "outputs": [],
   "source": [
    "np.random.shuffle(arrRange)"
   ]
  },
  {
   "cell_type": "code",
   "execution_count": 38,
   "id": "1f12f58b",
   "metadata": {},
   "outputs": [
    {
     "data": {
      "text/plain": [
       "array([2, 8, 0, 6, 4])"
      ]
     },
     "execution_count": 38,
     "metadata": {},
     "output_type": "execute_result"
    }
   ],
   "source": [
    "arrRange"
   ]
  },
  {
   "cell_type": "code",
   "execution_count": 43,
   "id": "62f8d90f",
   "metadata": {},
   "outputs": [],
   "source": [
    "arrRangePermutation = np.random.permutation(arrRange)"
   ]
  },
  {
   "cell_type": "code",
   "execution_count": 45,
   "id": "61c9b0b7",
   "metadata": {},
   "outputs": [
    {
     "data": {
      "text/plain": [
       "array([0, 2, 4, 6, 8])"
      ]
     },
     "execution_count": 45,
     "metadata": {},
     "output_type": "execute_result"
    }
   ],
   "source": [
    "np.sort(arrRangePermutation)"
   ]
  },
  {
   "cell_type": "markdown",
   "id": "d9026a2c",
   "metadata": {},
   "source": [
    "# Numpy Arithmetic Operation"
   ]
  },
  {
   "cell_type": "code",
   "execution_count": 67,
   "id": "8a40f1ea",
   "metadata": {},
   "outputs": [],
   "source": [
    "arr1 = np.random.randint(10 , size = (1,5))"
   ]
  },
  {
   "cell_type": "code",
   "execution_count": 68,
   "id": "b8c27be4",
   "metadata": {},
   "outputs": [],
   "source": [
    "arr2 = np.random.randint(10, size = (1,5))"
   ]
  },
  {
   "cell_type": "code",
   "execution_count": 71,
   "id": "48470ffb",
   "metadata": {},
   "outputs": [
    {
     "data": {
      "text/plain": [
       "(array([[9, 4, 7, 5, 2]]), array([[2, 9, 7, 9, 3]]))"
      ]
     },
     "execution_count": 71,
     "metadata": {},
     "output_type": "execute_result"
    }
   ],
   "source": [
    "arr1 , arr2"
   ]
  },
  {
   "cell_type": "code",
   "execution_count": 72,
   "id": "1e2e3615",
   "metadata": {},
   "outputs": [
    {
     "data": {
      "text/plain": [
       "array([[11, 13, 14, 14,  5]])"
      ]
     },
     "execution_count": 72,
     "metadata": {},
     "output_type": "execute_result"
    }
   ],
   "source": [
    "# add\n",
    "np.add(arr1 , arr2)"
   ]
  },
  {
   "cell_type": "code",
   "execution_count": 74,
   "id": "f4ea787d",
   "metadata": {},
   "outputs": [
    {
     "data": {
      "text/plain": [
       "array([[ 7, -5,  0, -4, -1]])"
      ]
     },
     "execution_count": 74,
     "metadata": {},
     "output_type": "execute_result"
    }
   ],
   "source": [
    "# sum\n",
    "arr1 - arr2"
   ]
  },
  {
   "cell_type": "code",
   "execution_count": 75,
   "id": "44544065",
   "metadata": {},
   "outputs": [
    {
     "data": {
      "text/plain": [
       "array([[18, 36, 49, 45,  6]])"
      ]
     },
     "execution_count": 75,
     "metadata": {},
     "output_type": "execute_result"
    }
   ],
   "source": [
    "# multi\n",
    "arr1 * arr2"
   ]
  },
  {
   "cell_type": "code",
   "execution_count": 76,
   "id": "9188d8e8",
   "metadata": {},
   "outputs": [
    {
     "data": {
      "text/plain": [
       "array([[4.5       , 0.44444444, 1.        , 0.55555556, 0.66666667]])"
      ]
     },
     "execution_count": 76,
     "metadata": {},
     "output_type": "execute_result"
    }
   ],
   "source": [
    "# divition\n",
    "arr1 / arr2"
   ]
  },
  {
   "cell_type": "code",
   "execution_count": 77,
   "id": "52110910",
   "metadata": {},
   "outputs": [
    {
     "data": {
      "text/plain": [
       "array([[1, 4, 0, 5, 2]])"
      ]
     },
     "execution_count": 77,
     "metadata": {},
     "output_type": "execute_result"
    }
   ],
   "source": [
    "# module\n",
    "np.mod(arr1 , arr2)"
   ]
  },
  {
   "cell_type": "markdown",
   "id": "e2e55f64",
   "metadata": {},
   "source": [
    "# Numpy comparison operation"
   ]
  },
  {
   "cell_type": "code",
   "execution_count": 80,
   "id": "b2285dec",
   "metadata": {},
   "outputs": [
    {
     "data": {
      "text/plain": [
       "array([4])"
      ]
     },
     "execution_count": 80,
     "metadata": {},
     "output_type": "execute_result"
    }
   ],
   "source": [
    "# equel to \n",
    "arr1[arr1 == 4 ]"
   ]
  },
  {
   "cell_type": "code",
   "execution_count": 81,
   "id": "6ec3a36e",
   "metadata": {},
   "outputs": [
    {
     "data": {
      "text/plain": [
       "array([9, 7, 5, 2])"
      ]
     },
     "execution_count": 81,
     "metadata": {},
     "output_type": "execute_result"
    }
   ],
   "source": [
    "# not equel to\n",
    "arr1[arr1 != 4 ]"
   ]
  },
  {
   "cell_type": "code",
   "execution_count": 82,
   "id": "08cede3f",
   "metadata": {},
   "outputs": [
    {
     "data": {
      "text/plain": [
       "array([2])"
      ]
     },
     "execution_count": 82,
     "metadata": {},
     "output_type": "execute_result"
    }
   ],
   "source": [
    "# less than\n",
    "arr1[ arr1 < 4 ]"
   ]
  },
  {
   "cell_type": "code",
   "execution_count": 83,
   "id": "c69676cf",
   "metadata": {},
   "outputs": [
    {
     "data": {
      "text/plain": [
       "array([4, 2])"
      ]
     },
     "execution_count": 83,
     "metadata": {},
     "output_type": "execute_result"
    }
   ],
   "source": [
    "# less than or equel to\n",
    "arr1[ arr1 <= 4 ]"
   ]
  },
  {
   "cell_type": "code",
   "execution_count": 84,
   "id": "1f7b4186",
   "metadata": {},
   "outputs": [
    {
     "data": {
      "text/plain": [
       "array([9, 7])"
      ]
     },
     "execution_count": 84,
     "metadata": {},
     "output_type": "execute_result"
    }
   ],
   "source": [
    "# greater than\n",
    "arr1[ arr1 > 5 ]"
   ]
  },
  {
   "cell_type": "code",
   "execution_count": 85,
   "id": "f4bda55a",
   "metadata": {},
   "outputs": [
    {
     "data": {
      "text/plain": [
       "array([9, 7, 5])"
      ]
     },
     "execution_count": 85,
     "metadata": {},
     "output_type": "execute_result"
    }
   ],
   "source": [
    "# greater than or equel to\n",
    "arr1[ arr1 >= 5 ]"
   ]
  },
  {
   "cell_type": "markdown",
   "id": "6874b384",
   "metadata": {},
   "source": [
    "# Aggregation\n",
    "\n",
    "`aggregation` performing the same operation on a numberof things"
   ]
  },
  {
   "cell_type": "code",
   "execution_count": 46,
   "id": "c241d843",
   "metadata": {},
   "outputs": [],
   "source": [
    "salary = np.array([50,60,70,80,90,100])"
   ]
  },
  {
   "cell_type": "code",
   "execution_count": 47,
   "id": "35aed95a",
   "metadata": {},
   "outputs": [
    {
     "data": {
      "text/plain": [
       "array([ 50,  60,  70,  80,  90, 100])"
      ]
     },
     "execution_count": 47,
     "metadata": {},
     "output_type": "execute_result"
    }
   ],
   "source": [
    "salary"
   ]
  },
  {
   "cell_type": "code",
   "execution_count": 48,
   "id": "58c35be2",
   "metadata": {},
   "outputs": [
    {
     "data": {
      "text/plain": [
       "450"
      ]
     },
     "execution_count": 48,
     "metadata": {},
     "output_type": "execute_result"
    }
   ],
   "source": [
    "# sum\n",
    "np.sum(salary)"
   ]
  },
  {
   "cell_type": "code",
   "execution_count": 49,
   "id": "e92321b0",
   "metadata": {},
   "outputs": [
    {
     "data": {
      "text/plain": [
       "75.0"
      ]
     },
     "execution_count": 49,
     "metadata": {},
     "output_type": "execute_result"
    }
   ],
   "source": [
    "# mean\n",
    "np.mean(salary)"
   ]
  },
  {
   "cell_type": "code",
   "execution_count": 50,
   "id": "6dc457f3",
   "metadata": {},
   "outputs": [
    {
     "data": {
      "text/plain": [
       "17.07825127659933"
      ]
     },
     "execution_count": 50,
     "metadata": {},
     "output_type": "execute_result"
    }
   ],
   "source": [
    "# standard deviation\n",
    "np.std(salary)"
   ]
  },
  {
   "cell_type": "code",
   "execution_count": 51,
   "id": "bebda28a",
   "metadata": {},
   "outputs": [
    {
     "data": {
      "text/plain": [
       "291.6666666666667"
      ]
     },
     "execution_count": 51,
     "metadata": {},
     "output_type": "execute_result"
    }
   ],
   "source": [
    "# variance\n",
    "np.var(salary)"
   ]
  },
  {
   "cell_type": "code",
   "execution_count": 53,
   "id": "fda3fc7e",
   "metadata": {},
   "outputs": [
    {
     "data": {
      "text/plain": [
       "100"
      ]
     },
     "execution_count": 53,
     "metadata": {},
     "output_type": "execute_result"
    }
   ],
   "source": [
    "# max\n",
    "np.max(salary)"
   ]
  },
  {
   "cell_type": "code",
   "execution_count": 55,
   "id": "f390a746",
   "metadata": {},
   "outputs": [
    {
     "data": {
      "text/plain": [
       "50"
      ]
     },
     "execution_count": 55,
     "metadata": {},
     "output_type": "execute_result"
    }
   ],
   "source": [
    "# min\n",
    "np.min(salary)"
   ]
  },
  {
   "cell_type": "code",
   "execution_count": 56,
   "id": "c50fcdeb",
   "metadata": {},
   "outputs": [],
   "source": [
    "# range\n",
    "range = np.max(salary) - np.min(salary)"
   ]
  },
  {
   "cell_type": "code",
   "execution_count": 57,
   "id": "fc5cf11d",
   "metadata": {},
   "outputs": [
    {
     "data": {
      "text/plain": [
       "50"
      ]
     },
     "execution_count": 57,
     "metadata": {},
     "output_type": "execute_result"
    }
   ],
   "source": [
    "range"
   ]
  },
  {
   "cell_type": "code",
   "execution_count": null,
   "id": "a3a7a728",
   "metadata": {},
   "outputs": [],
   "source": []
  }
 ],
 "metadata": {
  "kernelspec": {
   "display_name": "Python 3 (ipykernel)",
   "language": "python",
   "name": "python3"
  },
  "language_info": {
   "codemirror_mode": {
    "name": "ipython",
    "version": 3
   },
   "file_extension": ".py",
   "mimetype": "text/x-python",
   "name": "python",
   "nbconvert_exporter": "python",
   "pygments_lexer": "ipython3",
   "version": "3.11.5"
  }
 },
 "nbformat": 4,
 "nbformat_minor": 5
}
